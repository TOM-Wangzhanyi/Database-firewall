{
 "cells": [
  {
   "attachments": {},
   "cell_type": "markdown",
   "id": "94fc10de",
   "metadata": {
    "_cell_guid": "b1076dfc-b9ad-4769-8c92-a6c4dae69d19",
    "_uuid": "8f2839f25d086af736a60e9eeb907d3b93b6e0e5",
    "execution": {
     "iopub.execute_input": "2021-11-22T13:14:38.967409Z",
     "iopub.status.busy": "2021-11-22T13:14:38.96648Z",
     "iopub.status.idle": "2021-11-22T13:14:38.994955Z",
     "shell.execute_reply": "2021-11-22T13:14:38.993808Z",
     "shell.execute_reply.started": "2021-11-22T13:14:38.967308Z"
    },
    "id": "IMPVZK2F683D",
    "papermill": {
     "duration": 0.008277,
     "end_time": "2022-09-22T13:15:39.954614",
     "exception": false,
     "start_time": "2022-09-22T13:15:39.946337",
     "status": "completed"
    },
    "tags": []
   },
   "source": [
    "**IMPORTS**"
   ]
  },
  {
   "cell_type": "code",
   "execution_count": 1,
   "id": "78119a06",
   "metadata": {
    "execution": {
     "iopub.execute_input": "2022-09-22T13:15:39.971682Z",
     "iopub.status.busy": "2022-09-22T13:15:39.971051Z",
     "iopub.status.idle": "2022-09-22T13:15:40.004614Z",
     "shell.execute_reply": "2022-09-22T13:15:40.003076Z"
    },
    "papermill": {
     "duration": 0.046477,
     "end_time": "2022-09-22T13:15:40.008338",
     "exception": false,
     "start_time": "2022-09-22T13:15:39.961861",
     "status": "completed"
    },
    "tags": []
   },
   "outputs": [
    {
     "name": "stderr",
     "output_type": "stream",
     "text": [
      "d:\\WorkSpace\\anaconda\\envs\\tensor\\lib\\site-packages\\numpy\\_distributor_init.py:30: UserWarning: loaded more than 1 DLL from .libs:\n",
      "d:\\WorkSpace\\anaconda\\envs\\tensor\\lib\\site-packages\\numpy\\.libs\\libopenblas.FB5AE2TYXYH2IJRDKGDGQ3XBKLKTF43H.gfortran-win_amd64.dll\n",
      "d:\\WorkSpace\\anaconda\\envs\\tensor\\lib\\site-packages\\numpy\\.libs\\libopenblas64__v0.3.21-gcc_10_3_0.dll\n",
      "  warnings.warn(\"loaded more than 1 DLL from .libs:\"\n"
     ]
    }
   ],
   "source": [
    "# This Python 3 environment comes with many helpful analytics libraries installed\n",
    "# It is defined by the kaggle/python Docker image: https://github.com/kaggle/docker-python\n",
    "# For example, here's several helpful packages to load\n",
    "\n",
    "import numpy as np # linear algebra\n",
    "import pandas as pd # data processing, CSV file I/O (e.g. pd.read_csv)\n",
    "\n",
    "# Input data files are available in the read-only \"../input/\" directory\n",
    "# For example, running this (by clicking run or pressing Shift+Enter) will list all files under the input directory\n",
    "\n",
    "import os\n",
    "# for dirname, _, filenames in os.walk('/kaggle/input'):\n",
    "#     for filename in filenames:\n",
    "#         print(os.path.join(dirname, filename))\n",
    "\n",
    "# You can write up to 20GB to the current directory (/kaggle/working/) that gets preserved as output when you create a version using \"Save & Run All\" \n",
    "# You can also write temporary files to /kaggle/temp/, but they won't be saved outside of the current session"
   ]
  },
  {
   "cell_type": "code",
   "execution_count": 2,
   "id": "83957f68",
   "metadata": {
    "_cell_guid": "b1076dfc-b9ad-4769-8c92-a6c4dae69d19",
    "_uuid": "8f2839f25d086af736a60e9eeb907d3b93b6e0e5",
    "execution": {
     "iopub.execute_input": "2022-09-22T13:15:40.025505Z",
     "iopub.status.busy": "2022-09-22T13:15:40.024747Z",
     "iopub.status.idle": "2022-09-22T13:15:48.400908Z",
     "shell.execute_reply": "2022-09-22T13:15:48.399787Z"
    },
    "id": "TVBsdTmJ683J",
    "papermill": {
     "duration": 8.387482,
     "end_time": "2022-09-22T13:15:48.403613",
     "exception": false,
     "start_time": "2022-09-22T13:15:40.016131",
     "status": "completed"
    },
    "tags": []
   },
   "outputs": [],
   "source": [
    "import numpy as np\n",
    "import pandas as pd\n",
    "import matplotlib.pyplot as plt\n",
    "from sklearn.feature_extraction.text import CountVectorizer\n",
    "from sklearn.model_selection import train_test_split\n",
    "from nltk.corpus import stopwords\n",
    "from sklearn.metrics import accuracy_score, f1_score\n",
    "from sklearn.linear_model import LogisticRegression\n",
    "from sklearn.ensemble import RandomForestClassifier\n",
    "from sklearn.svm import SVC\n",
    "from sklearn.naive_bayes import GaussianNB\n",
    "import tensorflow as tf\n",
    "from tensorflow.keras.utils import plot_model\n",
    "from sklearn import tree\n",
    "from tensorflow.keras import models, layers\n",
    "import warnings\n",
    "\n",
    "from sklearn.metrics import confusion_matrix, classification_report, f1_score, precision_score, recall_score, accuracy_score\n",
    "from sklearn.metrics import precision_recall_curve,precision_recall_fscore_support\n",
    "import seaborn as sns\n",
    "warnings.filterwarnings('ignore')"
   ]
  },
  {
   "attachments": {},
   "cell_type": "markdown",
   "id": "ea010ac4",
   "metadata": {
    "id": "zq84qpPI683M",
    "papermill": {
     "duration": 0.006739,
     "end_time": "2022-09-22T13:15:48.417711",
     "exception": false,
     "start_time": "2022-09-22T13:15:48.410972",
     "status": "completed"
    },
    "tags": []
   },
   "source": [
    "**LOADING AND PREPROCESSING DATASET**"
   ]
  },
  {
   "cell_type": "code",
   "execution_count": 3,
   "id": "1b8708cb",
   "metadata": {
    "execution": {
     "iopub.execute_input": "2022-09-22T13:15:48.433423Z",
     "iopub.status.busy": "2022-09-22T13:15:48.432770Z",
     "iopub.status.idle": "2022-09-22T13:15:48.496326Z",
     "shell.execute_reply": "2022-09-22T13:15:48.494789Z"
    },
    "id": "pwXfL2xxEwaM",
    "outputId": "bd7f74bc-e2c4-4dab-c2cc-271e3a0e3f74",
    "papermill": {
     "duration": 0.074488,
     "end_time": "2022-09-22T13:15:48.499149",
     "exception": false,
     "start_time": "2022-09-22T13:15:48.424661",
     "status": "completed"
    },
    "tags": []
   },
   "outputs": [
    {
     "name": "stdout",
     "output_type": "stream",
     "text": [
      "Data Shape: (4200, 2)\n"
     ]
    },
    {
     "data": {
      "text/html": [
       "<div>\n",
       "<style scoped>\n",
       "    .dataframe tbody tr th:only-of-type {\n",
       "        vertical-align: middle;\n",
       "    }\n",
       "\n",
       "    .dataframe tbody tr th {\n",
       "        vertical-align: top;\n",
       "    }\n",
       "\n",
       "    .dataframe thead th {\n",
       "        text-align: right;\n",
       "    }\n",
       "</style>\n",
       "<table border=\"1\" class=\"dataframe\">\n",
       "  <thead>\n",
       "    <tr style=\"text-align: right;\">\n",
       "      <th></th>\n",
       "      <th>Sentence</th>\n",
       "      <th>Label</th>\n",
       "    </tr>\n",
       "  </thead>\n",
       "  <tbody>\n",
       "    <tr>\n",
       "      <th>0</th>\n",
       "      <td>a</td>\n",
       "      <td>1</td>\n",
       "    </tr>\n",
       "    <tr>\n",
       "      <th>1</th>\n",
       "      <td>a'</td>\n",
       "      <td>1</td>\n",
       "    </tr>\n",
       "    <tr>\n",
       "      <th>2</th>\n",
       "      <td>a' --</td>\n",
       "      <td>1</td>\n",
       "    </tr>\n",
       "    <tr>\n",
       "      <th>3</th>\n",
       "      <td>a' or 1 = 1; --</td>\n",
       "      <td>1</td>\n",
       "    </tr>\n",
       "    <tr>\n",
       "      <th>4</th>\n",
       "      <td>@</td>\n",
       "      <td>1</td>\n",
       "    </tr>\n",
       "    <tr>\n",
       "      <th>5</th>\n",
       "      <td>?</td>\n",
       "      <td>1</td>\n",
       "    </tr>\n",
       "    <tr>\n",
       "      <th>6</th>\n",
       "      <td>' and 1 = 0 )  union all</td>\n",
       "      <td>1</td>\n",
       "    </tr>\n",
       "    <tr>\n",
       "      <th>7</th>\n",
       "      <td>? or 1 = 1 --</td>\n",
       "      <td>1</td>\n",
       "    </tr>\n",
       "    <tr>\n",
       "      <th>8</th>\n",
       "      <td>x' and userid is NULL; --</td>\n",
       "      <td>1</td>\n",
       "    </tr>\n",
       "    <tr>\n",
       "      <th>9</th>\n",
       "      <td>x' and email is NULL; --</td>\n",
       "      <td>1</td>\n",
       "    </tr>\n",
       "  </tbody>\n",
       "</table>\n",
       "</div>"
      ],
      "text/plain": [
       "                    Sentence  Label\n",
       "0                          a      1\n",
       "1                        a'       1\n",
       "2                      a' --      1\n",
       "3            a' or 1 = 1; --      1\n",
       "4                          @      1\n",
       "5                          ?      1\n",
       "6   ' and 1 = 0 )  union all      1\n",
       "7              ? or 1 = 1 --      1\n",
       "8  x' and userid is NULL; --      1\n",
       "9   x' and email is NULL; --      1"
      ]
     },
     "execution_count": 3,
     "metadata": {},
     "output_type": "execute_result"
    }
   ],
   "source": [
    "path = './datasets/'\n",
    "df = pd.read_csv(path + \"sqli.csv\", encoding='utf-16')\n",
    "print(\"Data Shape:\", df.shape)\n",
    "df.head(10)"
   ]
  },
  {
   "cell_type": "code",
   "execution_count": 4,
   "id": "7d437ce1",
   "metadata": {
    "execution": {
     "iopub.execute_input": "2022-09-22T13:15:48.515453Z",
     "iopub.status.busy": "2022-09-22T13:15:48.515087Z",
     "iopub.status.idle": "2022-09-22T13:15:48.526525Z",
     "shell.execute_reply": "2022-09-22T13:15:48.525442Z"
    },
    "id": "B6OuxIyx683N",
    "outputId": "13d0213d-3e8a-444f-9c56-383a2f0fcbb8",
    "papermill": {
     "duration": 0.023098,
     "end_time": "2022-09-22T13:15:48.529702",
     "exception": false,
     "start_time": "2022-09-22T13:15:48.506604",
     "status": "completed"
    },
    "tags": []
   },
   "outputs": [
    {
     "name": "stdout",
     "output_type": "stream",
     "text": [
      "(4200,) (4200,)\n",
      "Dataset Input: \n",
      " 0                  a\n",
      "1                a' \n",
      "2              a' --\n",
      "3    a' or 1 = 1; --\n",
      "4                  @\n",
      "Name: Sentence, dtype: object\n",
      "Dataset Label: \n",
      " 0    1\n",
      "1    1\n",
      "2    1\n",
      "3    1\n",
      "4    1\n",
      "Name: Label, dtype: int64\n"
     ]
    }
   ],
   "source": [
    "X = df['Sentence']\n",
    "y = df['Label']\n",
    "print(X.shape, y.shape)\n",
    "print(\"Dataset Input:\", \"\\n\", X.head(5))\n",
    "print(\"Dataset Label:\", \"\\n\", y.head(5))"
   ]
  },
  {
   "cell_type": "code",
   "execution_count": 5,
   "id": "820f5a67",
   "metadata": {
    "execution": {
     "iopub.execute_input": "2022-09-22T13:15:48.546209Z",
     "iopub.status.busy": "2022-09-22T13:15:48.545819Z",
     "iopub.status.idle": "2022-09-22T13:15:48.952468Z",
     "shell.execute_reply": "2022-09-22T13:15:48.951490Z"
    },
    "id": "nNTZPR3jE3tX",
    "outputId": "9f1daf8a-f316-4525-a4fb-77ea5da1385a",
    "papermill": {
     "duration": 0.418052,
     "end_time": "2022-09-22T13:15:48.955172",
     "exception": false,
     "start_time": "2022-09-22T13:15:48.537120",
     "status": "completed"
    },
    "tags": []
   },
   "outputs": [
    {
     "name": "stderr",
     "output_type": "stream",
     "text": [
      "[nltk_data] Downloading package stopwords to\n",
      "[nltk_data]     C:\\Users\\wzyxi\\AppData\\Roaming\\nltk_data...\n",
      "[nltk_data]   Package stopwords is already up-to-date!\n"
     ]
    }
   ],
   "source": [
    "import nltk\n",
    "nltk.download('stopwords')\n",
    "vectorizer = CountVectorizer(min_df = 2, max_df = 0.8, stop_words = stopwords.words('english'))\n",
    "X = vectorizer.fit_transform(X.values.astype('U')).toarray()"
   ]
  },
  {
   "cell_type": "code",
   "execution_count": 6,
   "id": "fcc08047",
   "metadata": {
    "execution": {
     "iopub.execute_input": "2022-09-22T13:15:48.972227Z",
     "iopub.status.busy": "2022-09-22T13:15:48.971841Z",
     "iopub.status.idle": "2022-09-22T13:15:49.072744Z",
     "shell.execute_reply": "2022-09-22T13:15:49.071098Z"
    },
    "id": "ab38XMjUE0ct",
    "outputId": "0c6fab19-1669-4aaa-f345-4938c73eaa04",
    "papermill": {
     "duration": 0.113037,
     "end_time": "2022-09-22T13:15:49.075863",
     "exception": false,
     "start_time": "2022-09-22T13:15:48.962826",
     "status": "completed"
    },
    "tags": []
   },
   "outputs": [
    {
     "name": "stdout",
     "output_type": "stream",
     "text": [
      "(3360, 4717)\n",
      "(3360,)\n",
      "(840, 4717)\n",
      "(840,)\n"
     ]
    }
   ],
   "source": [
    "X_train, X_test, y_train, y_test = train_test_split(X, y, test_size = 0.2)\n",
    "print(X_train.shape)\n",
    "print(y_train.shape)\n",
    "print(X_test.shape)\n",
    "print(y_test.shape)"
   ]
  },
  {
   "cell_type": "code",
   "execution_count": 7,
   "id": "cb49f7f5",
   "metadata": {
    "execution": {
     "iopub.execute_input": "2022-09-22T13:15:49.107765Z",
     "iopub.status.busy": "2022-09-22T13:15:49.107346Z",
     "iopub.status.idle": "2022-09-22T13:15:49.113172Z",
     "shell.execute_reply": "2022-09-22T13:15:49.111863Z"
    },
    "id": "4tRntf4etCpz",
    "papermill": {
     "duration": 0.028613,
     "end_time": "2022-09-22T13:15:49.115408",
     "exception": false,
     "start_time": "2022-09-22T13:15:49.086795",
     "status": "completed"
    },
    "tags": []
   },
   "outputs": [],
   "source": [
    "f1_dict = {}\n",
    "precision_dict = {}\n",
    "recall_dict = {}\n",
    "accuracy_dict = {}\n",
    "train_accuracy = {}\n",
    "validation_accuracy = {}\n",
    "test_accuracy = {}"
   ]
  },
  {
   "attachments": {},
   "cell_type": "markdown",
   "id": "8410ccbb",
   "metadata": {
    "id": "DgotjNrO683P",
    "papermill": {
     "duration": 0.007068,
     "end_time": "2022-09-22T13:15:49.129879",
     "exception": false,
     "start_time": "2022-09-22T13:15:49.122811",
     "status": "completed"
    },
    "tags": []
   },
   "source": [
    "**LOGISTIC REGRESSION**"
   ]
  },
  {
   "cell_type": "code",
   "execution_count": 8,
   "id": "ace22642",
   "metadata": {
    "execution": {
     "iopub.execute_input": "2022-09-22T13:15:49.146863Z",
     "iopub.status.busy": "2022-09-22T13:15:49.146055Z",
     "iopub.status.idle": "2022-09-22T13:15:49.692941Z",
     "shell.execute_reply": "2022-09-22T13:15:49.691282Z"
    },
    "id": "hN1rIraz683Q",
    "outputId": "519666f4-03df-4fd3-f083-0eadb97d3a91",
    "papermill": {
     "duration": 0.562195,
     "end_time": "2022-09-22T13:15:49.699375",
     "exception": false,
     "start_time": "2022-09-22T13:15:49.137180",
     "status": "completed"
    },
    "tags": []
   },
   "outputs": [
    {
     "name": "stdout",
     "output_type": "stream",
     "text": [
      "Accuracy of Logistic Regression on test set : 0.9357142857142857\n",
      "F1 Score of Logistic Regression on test set : 0.8695652173913042\n"
     ]
    }
   ],
   "source": [
    "lr_clf = LogisticRegression()\n",
    "y_pred_lr = lr_clf.fit(X_train, y_train)\n",
    "y_pred = y_pred_lr.predict(X_test)\n",
    "print(f\"Accuracy of Logistic Regression on test set : {accuracy_score(y_pred, y_test)}\")\n",
    "print(f\"F1 Score of Logistic Regression on test set : {f1_score(y_pred, y_test)}\")\n",
    "\n",
    "# Updates model score to f1_dict\n",
    "f1_dict[\"LogisticRegression\"] = f1_score(y_pred, y_test)\n",
    "precision_dict[\"LogisticRegression\"] = precision_score(y_pred, y_test)\n",
    "recall_dict[\"LogisticRegression\"] = recall_score(y_pred, y_test)\n",
    "accuracy_dict['LogisticRegression'] = accuracy_score(y_pred, y_test)"
   ]
  },
  {
   "attachments": {},
   "cell_type": "markdown",
   "id": "1bfa00f2",
   "metadata": {
    "id": "DrntARHO683R",
    "papermill": {
     "duration": 0.018447,
     "end_time": "2022-09-22T13:15:49.737300",
     "exception": false,
     "start_time": "2022-09-22T13:15:49.718853",
     "status": "completed"
    },
    "tags": []
   },
   "source": [
    "**RANDOM FOREST**"
   ]
  },
  {
   "cell_type": "code",
   "execution_count": 9,
   "id": "5f0c0750",
   "metadata": {
    "execution": {
     "iopub.execute_input": "2022-09-22T13:15:49.778209Z",
     "iopub.status.busy": "2022-09-22T13:15:49.777471Z",
     "iopub.status.idle": "2022-09-22T13:15:58.042331Z",
     "shell.execute_reply": "2022-09-22T13:15:58.040648Z"
    },
    "id": "Ad6-zNAR683S",
    "outputId": "09aa79e3-35e0-4edb-cad0-171c04390326",
    "papermill": {
     "duration": 8.288326,
     "end_time": "2022-09-22T13:15:58.044785",
     "exception": false,
     "start_time": "2022-09-22T13:15:49.756459",
     "status": "completed"
    },
    "tags": []
   },
   "outputs": [
    {
     "name": "stdout",
     "output_type": "stream",
     "text": [
      "Accuracy of Random Forest on test set : 0.8976190476190476\n",
      "F1 Score of Random Forest on test set : 0.843065693430657\n"
     ]
    }
   ],
   "source": [
    "rf_clf = RandomForestClassifier()\n",
    "rf_clf.fit(X_train, y_train)\n",
    "y_pred = rf_clf.predict(X_test)\n",
    "print(f\"Accuracy of Random Forest on test set : {accuracy_score(y_pred, y_test)}\")\n",
    "print(f\"F1 Score of Random Forest on test set : {f1_score(y_pred, y_test)}\")\n",
    "\n",
    "# Updates model score to f1_dict\n",
    "f1_dict[\"RandomForest\"] = f1_score(y_pred, y_test)\n",
    "precision_dict[\"RandomForest\"] = precision_score(y_pred, y_test)\n",
    "recall_dict[\"RandomForest\"] = recall_score(y_pred, y_test)\n",
    "accuracy_dict['RandomForest'] = accuracy_score(y_pred, y_test)"
   ]
  },
  {
   "attachments": {},
   "cell_type": "markdown",
   "id": "9b6eb6fe",
   "metadata": {
    "id": "I-TM5IRV683T",
    "papermill": {
     "duration": 0.007432,
     "end_time": "2022-09-22T13:15:58.059947",
     "exception": false,
     "start_time": "2022-09-22T13:15:58.052515",
     "status": "completed"
    },
    "tags": []
   },
   "source": [
    "**SUPPORT VECTOR MACHINES**"
   ]
  },
  {
   "cell_type": "code",
   "execution_count": 10,
   "id": "07cd9fe3",
   "metadata": {
    "execution": {
     "iopub.execute_input": "2022-09-22T13:15:58.078231Z",
     "iopub.status.busy": "2022-09-22T13:15:58.077651Z",
     "iopub.status.idle": "2022-09-22T13:16:29.362036Z",
     "shell.execute_reply": "2022-09-22T13:16:29.360817Z"
    },
    "id": "BLbz8NpW683T",
    "outputId": "ab296a24-c57e-4202-eb3e-20540673215b",
    "papermill": {
     "duration": 31.304774,
     "end_time": "2022-09-22T13:16:29.372391",
     "exception": false,
     "start_time": "2022-09-22T13:15:58.067617",
     "status": "completed"
    },
    "tags": []
   },
   "outputs": [
    {
     "name": "stdout",
     "output_type": "stream",
     "text": [
      "Accuracy of SVM on test set : 0.780952380952381\n",
      "F1 Score of SVM on test set : 0.34285714285714286\n"
     ]
    }
   ],
   "source": [
    "svm_clf = SVC(gamma = 'auto')\n",
    "svm_clf.fit(X_train, y_train)\n",
    "y_pred = svm_clf.predict(X_test)\n",
    "print(f\"Accuracy of SVM on test set : {accuracy_score(y_pred, y_test)}\")\n",
    "print(f\"F1 Score of SVM on test set : {f1_score(y_pred, y_test)}\")\n",
    "\n",
    "# Updates model score to f1_dict\n",
    "f1_dict[\"SVM\"] = f1_score(y_pred, y_test)\n",
    "precision_dict[\"SVM\"] = precision_score(y_pred, y_test)\n",
    "recall_dict[\"SVM\"] = recall_score(y_pred, y_test)\n",
    "accuracy_dict['SVM'] = accuracy_score(y_pred, y_test)"
   ]
  },
  {
   "attachments": {},
   "cell_type": "markdown",
   "id": "b933f8fe",
   "metadata": {
    "id": "eBUdKeBH683U",
    "papermill": {
     "duration": 0.007479,
     "end_time": "2022-09-22T13:16:29.387746",
     "exception": false,
     "start_time": "2022-09-22T13:16:29.380267",
     "status": "completed"
    },
    "tags": []
   },
   "source": [
    "**NAIVE BAYES**"
   ]
  },
  {
   "cell_type": "code",
   "execution_count": 12,
   "id": "b42b2ba6",
   "metadata": {
    "execution": {
     "iopub.execute_input": "2022-09-22T13:16:29.405750Z",
     "iopub.status.busy": "2022-09-22T13:16:29.405310Z",
     "iopub.status.idle": "2022-09-22T13:16:29.754143Z",
     "shell.execute_reply": "2022-09-22T13:16:29.752500Z"
    },
    "id": "U0oiBYMU683V",
    "outputId": "aab99fe7-3c72-4692-f2fc-96cdcd6b2a1a",
    "papermill": {
     "duration": 0.361139,
     "end_time": "2022-09-22T13:16:29.756694",
     "exception": false,
     "start_time": "2022-09-22T13:16:29.395555",
     "status": "completed"
    },
    "tags": []
   },
   "outputs": [
    {
     "name": "stdout",
     "output_type": "stream",
     "text": [
      "Accuracy of Naive Bayes on test set : 0.9797619047619047\n",
      "F1 Score of Naive Bayes on test set : 0.9643605870020965\n"
     ]
    }
   ],
   "source": [
    "nb_clf = GaussianNB()\n",
    "nb_clf.fit(X_train, y_train)\n",
    "y_pred = nb_clf.predict(X_test)\n",
    "print(f\"Accuracy of Naive Bayes on test set : {accuracy_score(y_pred, y_test)}\")\n",
    "print(f\"F1 Score of Naive Bayes on test set : {f1_score(y_pred, y_test)}\")\n",
    "\n",
    "# Updates model score to f1_dict\n",
    "f1_dict[\"NaiveBayes\"] = f1_score(y_pred, y_test)\n",
    "precision_dict[\"NaiveBayes\"] = precision_score(y_pred, y_test)\n",
    "recall_dict[\"NaiveBayes\"] = recall_score(y_pred, y_test)\n",
    "accuracy_dict['NaiveBayes'] = accuracy_score(y_pred, y_test)"
   ]
  },
  {
   "attachments": {},
   "cell_type": "markdown",
   "id": "cf088690",
   "metadata": {
    "id": "7aRsJyZiGSy-",
    "papermill": {
     "duration": 0.007659,
     "end_time": "2022-09-22T13:16:29.772183",
     "exception": false,
     "start_time": "2022-09-22T13:16:29.764524",
     "status": "completed"
    },
    "tags": []
   },
   "source": [
    "DECISION TREES\n"
   ]
  },
  {
   "cell_type": "code",
   "execution_count": 13,
   "id": "6e90ab01",
   "metadata": {
    "execution": {
     "iopub.execute_input": "2022-09-22T13:16:29.789552Z",
     "iopub.status.busy": "2022-09-22T13:16:29.789183Z",
     "iopub.status.idle": "2022-09-22T13:16:35.866140Z",
     "shell.execute_reply": "2022-09-22T13:16:35.864091Z"
    },
    "id": "t4zC42NwGSKe",
    "outputId": "5849f20f-7153-4746-bca0-223870cf1ab0",
    "papermill": {
     "duration": 6.089672,
     "end_time": "2022-09-22T13:16:35.869652",
     "exception": false,
     "start_time": "2022-09-22T13:16:29.779980",
     "status": "completed"
    },
    "tags": []
   },
   "outputs": [
    {
     "name": "stdout",
     "output_type": "stream",
     "text": [
      "Accuracy of Naive Bayes on test set : 0.8488095238095238\n",
      "F1 Score of Naive Bayes on test set : 0.7843803056027164\n"
     ]
    }
   ],
   "source": [
    "DT = tree.DecisionTreeClassifier()\n",
    "DT.fit(X_train, y_train)\n",
    "y_pred = DT.predict(X_test)\n",
    "print(f\"Accuracy of Naive Bayes on test set : {accuracy_score(y_pred, y_test)}\")\n",
    "print(f\"F1 Score of Naive Bayes on test set : {f1_score(y_pred, y_test)}\")\n",
    "\n",
    "# Updates model score to f1_dict\n",
    "f1_dict[\"DecisionTree\"] = f1_score(y_pred, y_test)\n",
    "precision_dict[\"DecisionTree\"] = precision_score(y_pred, y_test)\n",
    "recall_dict[\"DecisionTree\"] = recall_score(y_pred, y_test)\n",
    "accuracy_dict['DecisionTree'] = accuracy_score(y_pred, y_test)"
   ]
  },
  {
   "attachments": {},
   "cell_type": "markdown",
   "id": "432388e5",
   "metadata": {
    "id": "Gxs5Buge683V",
    "papermill": {
     "duration": 0.007464,
     "end_time": "2022-09-22T13:16:35.885207",
     "exception": false,
     "start_time": "2022-09-22T13:16:35.877743",
     "status": "completed"
    },
    "tags": []
   },
   "source": [
    "**CONVOLUTIONAL NEURAL NETWORK**"
   ]
  },
  {
   "cell_type": "code",
   "execution_count": 14,
   "id": "1e13a86f",
   "metadata": {
    "execution": {
     "iopub.execute_input": "2022-09-22T13:16:35.903154Z",
     "iopub.status.busy": "2022-09-22T13:16:35.902758Z",
     "iopub.status.idle": "2022-09-22T13:16:35.915394Z",
     "shell.execute_reply": "2022-09-22T13:16:35.914585Z"
    },
    "id": "Ympz9FOJMD2B",
    "papermill": {
     "duration": 0.024199,
     "end_time": "2022-09-22T13:16:35.917712",
     "exception": false,
     "start_time": "2022-09-22T13:16:35.893513",
     "status": "completed"
    },
    "tags": []
   },
   "outputs": [],
   "source": [
    "# Function to plot the history graphs of the training and validation curves during training\n",
    "def plot_history(history):\n",
    "    history_dict = history.history\n",
    "    train_loss = history_dict['loss']    # Training loss over epochs\n",
    "    val_loss = history_dict['val_loss']    # Validation loss over epochs\n",
    "    epochs = range(1, len(history_dict['loss'])+1)\n",
    "    plt.plot(epochs, train_loss,'b', label='Training error')\n",
    "    plt.plot(epochs, val_loss,'b', color=\"orange\", label='Validation error')\n",
    "    plt.title('Training and Validation Loss')\n",
    "    plt.xlabel('Epochs')\n",
    "    plt.ylabel('Loss')\n",
    "    plt.legend()\n",
    "    plt.show()\n",
    "\n",
    "def plot_historyAcc(history):\n",
    "    history_dict = history.history\n",
    "    train_acc = history_dict['accuracy']    # Training loss over epochs\n",
    "    val_acc = history_dict['val_accuracy']    # Validation loss over epochs\n",
    "    epochs = range(1, len(history_dict['accuracy'])+1)\n",
    "    plt.plot(epochs, train_acc,'b', label='Training accuracy')\n",
    "    plt.plot(epochs, val_acc,'b', color=\"orange\", label='Validation accuracy')\n",
    "    plt.title('Training and Validation Accuracy')\n",
    "    plt.xlabel('Epochs')\n",
    "    plt.ylabel('Accuracy')\n",
    "    plt.legend()\n",
    "    plt.show()\n",
    "\n",
    "# Function to plot the confusion matrix\n",
    "def plot_confusion_matrix(conf_matrix):    \n",
    "    fig, ax = plt.subplots(figsize=(7.5, 7.5))\n",
    "    ax.matshow(conf_matrix, cmap=plt.cm.Blues, alpha=0.3)\n",
    "    for i in range(conf_matrix.shape[0]):\n",
    "        for j in range(conf_matrix.shape[1]):\n",
    "            ax.text(x=j, y=i, s=conf_matrix[i, j], va='center', ha='center', size='xx-large')\n",
    "    \n",
    "    plt.xlabel('Predicted Value', fontsize=18)\n",
    "    plt.ylabel('Actual Value', fontsize=18)\n",
    "    plt.title('Confusion Matrix', fontsize=18)\n",
    "    plt.show()"
   ]
  },
  {
   "cell_type": "code",
   "execution_count": 15,
   "id": "c25fd698",
   "metadata": {
    "execution": {
     "iopub.execute_input": "2022-09-22T13:16:35.935386Z",
     "iopub.status.busy": "2022-09-22T13:16:35.934579Z",
     "iopub.status.idle": "2022-09-22T13:16:43.284594Z",
     "shell.execute_reply": "2022-09-22T13:16:43.283407Z"
    },
    "id": "ob1MU562683W",
    "outputId": "15a61dc0-5b8e-4a9b-d4e3-5f858892be38",
    "papermill": {
     "duration": 7.361911,
     "end_time": "2022-09-22T13:16:43.287322",
     "exception": false,
     "start_time": "2022-09-22T13:16:35.925411",
     "status": "completed"
    },
    "tags": []
   },
   "outputs": [
    {
     "name": "stdout",
     "output_type": "stream",
     "text": [
      "Model: \"sequential\"\n",
      "_________________________________________________________________\n",
      " Layer (type)                Output Shape              Param #   \n",
      "=================================================================\n",
      " conv1d (Conv1D)             (None, 1, 32)             150976    \n",
      "                                                                 \n",
      " conv1d_1 (Conv1D)           (None, 1, 32)             1056      \n",
      "                                                                 \n",
      " flatten (Flatten)           (None, 32)                0         \n",
      "                                                                 \n",
      " dense (Dense)               (None, 1)                 33        \n",
      "                                                                 \n",
      "=================================================================\n",
      "Total params: 152,065\n",
      "Trainable params: 152,065\n",
      "Non-trainable params: 0\n",
      "_________________________________________________________________\n",
      "Epoch 1/10\n",
      "105/105 [==============================] - 1s 5ms/step - loss: 0.4376 - accuracy: 0.8402 - val_loss: 0.1889 - val_accuracy: 0.9060\n",
      "Epoch 2/10\n",
      "105/105 [==============================] - 0s 3ms/step - loss: 0.1222 - accuracy: 0.9604 - val_loss: 0.0906 - val_accuracy: 0.9810\n",
      "Epoch 3/10\n",
      "105/105 [==============================] - 0s 3ms/step - loss: 0.0686 - accuracy: 0.9795 - val_loss: 0.0704 - val_accuracy: 0.9786\n",
      "Epoch 4/10\n",
      "105/105 [==============================] - 0s 3ms/step - loss: 0.0543 - accuracy: 0.9815 - val_loss: 0.0695 - val_accuracy: 0.9738\n",
      "Epoch 5/10\n",
      "105/105 [==============================] - 0s 3ms/step - loss: 0.0497 - accuracy: 0.9815 - val_loss: 0.0619 - val_accuracy: 0.9786\n",
      "Epoch 6/10\n",
      "105/105 [==============================] - 0s 2ms/step - loss: 0.0466 - accuracy: 0.9818 - val_loss: 0.0615 - val_accuracy: 0.9786\n",
      "Epoch 7/10\n",
      "105/105 [==============================] - 0s 3ms/step - loss: 0.0451 - accuracy: 0.9824 - val_loss: 0.0605 - val_accuracy: 0.9786\n",
      "Epoch 8/10\n",
      "105/105 [==============================] - 0s 3ms/step - loss: 0.0446 - accuracy: 0.9824 - val_loss: 0.0608 - val_accuracy: 0.9786\n",
      "Epoch 9/10\n",
      "105/105 [==============================] - 0s 3ms/step - loss: 0.0441 - accuracy: 0.9824 - val_loss: 0.0607 - val_accuracy: 0.9786\n",
      "Epoch 10/10\n",
      "105/105 [==============================] - 0s 3ms/step - loss: 0.0435 - accuracy: 0.9824 - val_loss: 0.0587 - val_accuracy: 0.9786\n"
     ]
    }
   ],
   "source": [
    "model = models.Sequential()\n",
    "model.add(layers.Conv1D(32, 1, activation = 'relu', input_shape = (1,4717)))\n",
    "model.add(layers.Conv1D(32, 1, activation = 'relu'))\n",
    "model.add(layers.Flatten())\n",
    "model.add(layers.Dense(1, activation = 'sigmoid'))\n",
    "model.summary()\n",
    "model.compile(optimizer = 'adam', loss = tf.keras.losses.BinaryCrossentropy(), metrics = ['accuracy'])\n",
    "\n",
    "X_train1 = X_train.reshape(-1, 1, 4717)\n",
    "X_test1 = X_test.reshape(-1, 1, 4717)\n",
    "\n",
    "history = model.fit(X_train1, y_train, epochs = 10, validation_data = (X_test1, y_test))"
   ]
  },
  {
   "cell_type": "code",
   "execution_count": 16,
   "id": "b7d5bfa6",
   "metadata": {
    "execution": {
     "iopub.execute_input": "2022-09-22T13:16:43.320313Z",
     "iopub.status.busy": "2022-09-22T13:16:43.319923Z",
     "iopub.status.idle": "2022-09-22T13:16:43.568343Z",
     "shell.execute_reply": "2022-09-22T13:16:43.567502Z"
    },
    "id": "rO6xSeVL683W",
    "outputId": "ec0c71e1-10cc-42e9-ebba-310a09a2bf50",
    "papermill": {
     "duration": 0.267139,
     "end_time": "2022-09-22T13:16:43.570492",
     "exception": false,
     "start_time": "2022-09-22T13:16:43.303353",
     "status": "completed"
    },
    "tags": []
   },
   "outputs": [
    {
     "name": "stdout",
     "output_type": "stream",
     "text": [
      "27/27 [==============================] - 0s 2ms/step\n",
      "Accuracy of CNN on test set : 0.9785714285714285\n",
      "F1 Score of CNN on test set : 0.9625\n"
     ]
    }
   ],
   "source": [
    "y_pred = model.predict(X_test1).flatten()\n",
    "# y_pred1 = [1 if x>-0.5 else 0 for x in y_pred]\n",
    "y_pred = np.round(y_pred)\n",
    "print(f\"Accuracy of CNN on test set : {accuracy_score(y_pred, y_test)}\")\n",
    "print(f\"F1 Score of CNN on test set : {f1_score(y_pred, y_test)}\")\n",
    "\n",
    "# Updates model score to f1_dict\n",
    "f1_dict[\"CNN\"] = f1_score(y_pred, y_test)\n",
    "precision_dict[\"CNN\"] = precision_score(y_pred, y_test)\n",
    "recall_dict[\"CNN\"] = recall_score(y_pred, y_test)\n",
    "accuracy_dict['CNN'] = accuracy_score(y_pred, y_test)"
   ]
  },
  {
   "cell_type": "code",
   "execution_count": 17,
   "id": "902e5865",
   "metadata": {
    "execution": {
     "iopub.execute_input": "2022-09-22T13:16:43.603449Z",
     "iopub.status.busy": "2022-09-22T13:16:43.602413Z",
     "iopub.status.idle": "2022-09-22T13:16:44.803381Z",
     "shell.execute_reply": "2022-09-22T13:16:44.801583Z"
    },
    "id": "xCC1XeEzQfrx",
    "outputId": "f0ee23a1-837c-49e1-ffe4-2bde38951d12",
    "papermill": {
     "duration": 1.22046,
     "end_time": "2022-09-22T13:16:44.806223",
     "exception": false,
     "start_time": "2022-09-22T13:16:43.585763",
     "status": "completed"
    },
    "tags": []
   },
   "outputs": [
    {
     "name": "stdout",
     "output_type": "stream",
     "text": [
      "You must install pydot (`pip install pydot`) and install graphviz (see instructions at https://graphviz.gitlab.io/download/) for plot_model to work.\n"
     ]
    }
   ],
   "source": [
    "plot_model(model, show_shapes=True, to_file='CNN.png')"
   ]
  },
  {
   "cell_type": "code",
   "execution_count": 18,
   "id": "9fa6a12a",
   "metadata": {
    "execution": {
     "iopub.execute_input": "2022-09-22T13:16:44.841834Z",
     "iopub.status.busy": "2022-09-22T13:16:44.841380Z",
     "iopub.status.idle": "2022-09-22T13:16:45.326312Z",
     "shell.execute_reply": "2022-09-22T13:16:45.325168Z"
    },
    "id": "2fQh_rQwPuSK",
    "outputId": "dddbcce8-7a53-4436-ed1a-c54d80ac5983",
    "papermill": {
     "duration": 0.505149,
     "end_time": "2022-09-22T13:16:45.328616",
     "exception": false,
     "start_time": "2022-09-22T13:16:44.823467",
     "status": "completed"
    },
    "tags": []
   },
   "outputs": [
    {
     "data": {
      "image/png": "[encoded data removed]",
      "text/plain": [
       "<Figure size 640x480 with 1 Axes>"
      ]
     },
     "metadata": {},
     "output_type": "display_data"
    },
    {
     "data": {
      "image/png": "[encoded data removed]",
      "text/plain": [
       "<Figure size 640x480 with 1 Axes>"
      ]
     },
     "metadata": {},
     "output_type": "display_data"
    }
   ],
   "source": [
    "# Plots loss over epochs\n",
    "plot_history(history)\n",
    "plot_historyAcc(history)"
   ]
  },
  {
   "cell_type": "code",
   "execution_count": 19,
   "id": "d36ab872",
   "metadata": {
    "execution": {
     "iopub.execute_input": "2022-09-22T13:16:45.363799Z",
     "iopub.status.busy": "2022-09-22T13:16:45.363374Z",
     "iopub.status.idle": "2022-09-22T13:16:45.666145Z",
     "shell.execute_reply": "2022-09-22T13:16:45.664583Z"
    },
    "id": "V0gGM_eashkp",
    "outputId": "e63bd819-a188-4df6-8a23-c62b2fc4d48c",
    "papermill": {
     "duration": 0.324799,
     "end_time": "2022-09-22T13:16:45.670275",
     "exception": false,
     "start_time": "2022-09-22T13:16:45.345476",
     "status": "completed"
    },
    "tags": []
   },
   "outputs": [
    {
     "data": {
      "image/png": "[encoded data removed]",
      "text/plain": [
       "<Figure size 750x750 with 1 Axes>"
      ]
     },
     "metadata": {},
     "output_type": "display_data"
    },
    {
     "name": "stdout",
     "output_type": "stream",
     "text": [
      "               precision    recall  f1-score   support\n",
      "\n",
      "Non-Intrusion       1.00      0.97      0.98       608\n",
      "    Intrusion       0.93      1.00      0.96       232\n",
      "\n",
      "     accuracy                           0.98       840\n",
      "    macro avg       0.96      0.98      0.97       840\n",
      " weighted avg       0.98      0.98      0.98       840\n",
      "\n"
     ]
    }
   ],
   "source": [
    "# Plots confusion matrix and displays classification report\n",
    "conf_matrix_model = confusion_matrix(y_test, y_pred)\n",
    "plot_confusion_matrix(conf_matrix_model)\n",
    "print(classification_report(y_test, y_pred, target_names=[\"Non-Intrusion\", \"Intrusion\"]))"
   ]
  },
  {
   "attachments": {},
   "cell_type": "markdown",
   "id": "c3d28476",
   "metadata": {
    "id": "vYspWSN0T1J3",
    "papermill": {
     "duration": 0.016344,
     "end_time": "2022-09-22T13:16:45.705018",
     "exception": false,
     "start_time": "2022-09-22T13:16:45.688674",
     "status": "completed"
    },
    "tags": []
   },
   "source": [
    "FINAL PLOT FOR MODELS PERFORMANCE"
   ]
  },
  {
   "cell_type": "code",
   "execution_count": 20,
   "id": "520dbb8e",
   "metadata": {
    "execution": {
     "iopub.execute_input": "2022-09-22T13:16:45.740591Z",
     "iopub.status.busy": "2022-09-22T13:16:45.739712Z",
     "iopub.status.idle": "2022-09-22T13:16:45.756882Z",
     "shell.execute_reply": "2022-09-22T13:16:45.755986Z"
    },
    "id": "1KwQysSpT0wL",
    "outputId": "8576f88b-979b-483a-fb23-241b1ecf436f",
    "papermill": {
     "duration": 0.03758,
     "end_time": "2022-09-22T13:16:45.759138",
     "exception": false,
     "start_time": "2022-09-22T13:16:45.721558",
     "status": "completed"
    },
    "tags": []
   },
   "outputs": [
    {
     "data": {
      "text/html": [
       "<div>\n",
       "<style scoped>\n",
       "    .dataframe tbody tr th:only-of-type {\n",
       "        vertical-align: middle;\n",
       "    }\n",
       "\n",
       "    .dataframe tbody tr th {\n",
       "        vertical-align: top;\n",
       "    }\n",
       "\n",
       "    .dataframe thead th {\n",
       "        text-align: right;\n",
       "    }\n",
       "</style>\n",
       "<table border=\"1\" class=\"dataframe\">\n",
       "  <thead>\n",
       "    <tr style=\"text-align: right;\">\n",
       "      <th></th>\n",
       "      <th>LogisticRegression</th>\n",
       "      <th>RandomForest</th>\n",
       "      <th>SVM</th>\n",
       "      <th>NaiveBayes</th>\n",
       "      <th>DecisionTree</th>\n",
       "      <th>CNN</th>\n",
       "    </tr>\n",
       "  </thead>\n",
       "  <tbody>\n",
       "    <tr>\n",
       "      <th>F1_Score</th>\n",
       "      <td>0.869565</td>\n",
       "      <td>0.843066</td>\n",
       "      <td>0.342857</td>\n",
       "      <td>0.964361</td>\n",
       "      <td>0.784380</td>\n",
       "      <td>0.962500</td>\n",
       "    </tr>\n",
       "    <tr>\n",
       "      <th>Precision</th>\n",
       "      <td>0.775862</td>\n",
       "      <td>0.995690</td>\n",
       "      <td>0.206897</td>\n",
       "      <td>0.991379</td>\n",
       "      <td>0.995690</td>\n",
       "      <td>0.995690</td>\n",
       "    </tr>\n",
       "    <tr>\n",
       "      <th>Recall</th>\n",
       "      <td>0.989011</td>\n",
       "      <td>0.731013</td>\n",
       "      <td>1.000000</td>\n",
       "      <td>0.938776</td>\n",
       "      <td>0.647059</td>\n",
       "      <td>0.931452</td>\n",
       "    </tr>\n",
       "    <tr>\n",
       "      <th>Accuracy</th>\n",
       "      <td>0.935714</td>\n",
       "      <td>0.897619</td>\n",
       "      <td>0.780952</td>\n",
       "      <td>0.979762</td>\n",
       "      <td>0.848810</td>\n",
       "      <td>0.978571</td>\n",
       "    </tr>\n",
       "  </tbody>\n",
       "</table>\n",
       "</div>"
      ],
      "text/plain": [
       "           LogisticRegression  RandomForest       SVM  NaiveBayes  \\\n",
       "F1_Score             0.869565      0.843066  0.342857    0.964361   \n",
       "Precision            0.775862      0.995690  0.206897    0.991379   \n",
       "Recall               0.989011      0.731013  1.000000    0.938776   \n",
       "Accuracy             0.935714      0.897619  0.780952    0.979762   \n",
       "\n",
       "           DecisionTree       CNN  \n",
       "F1_Score       0.784380  0.962500  \n",
       "Precision      0.995690  0.995690  \n",
       "Recall         0.647059  0.931452  \n",
       "Accuracy       0.848810  0.978571  "
      ]
     },
     "execution_count": 20,
     "metadata": {},
     "output_type": "execute_result"
    }
   ],
   "source": [
    "keys2 = f1_dict, precision_dict, recall_dict, accuracy_dict\n",
    "metrics = ['F1_Score', 'Precision', 'Recall', 'Accuracy']\n",
    "data = pd.DataFrame(keys2)\n",
    "data.index = metrics\n",
    "data"
   ]
  },
  {
   "cell_type": "code",
   "execution_count": 21,
   "id": "5dd6bf4a",
   "metadata": {
    "execution": {
     "iopub.execute_input": "2022-09-22T13:16:45.794794Z",
     "iopub.status.busy": "2022-09-22T13:16:45.794316Z",
     "iopub.status.idle": "2022-09-22T13:16:46.138741Z",
     "shell.execute_reply": "2022-09-22T13:16:46.137884Z"
    },
    "id": "V7s1MQ3nT0ss",
    "outputId": "0261f05b-f70b-4df5-c3ff-60e30a3ff732",
    "papermill": {
     "duration": 0.365554,
     "end_time": "2022-09-22T13:16:46.141527",
     "exception": false,
     "start_time": "2022-09-22T13:16:45.775973",
     "status": "completed"
    },
    "tags": []
   },
   "outputs": [
    {
     "data": {
      "image/png": "[encoded data removed]",
      "text/plain": [
       "<Figure size 1500x700 with 1 Axes>"
      ]
     },
     "metadata": {},
     "output_type": "display_data"
    }
   ],
   "source": [
    "result = data.plot(kind='bar', rot=0, figsize=(15, 7));\n",
    "result.legend(bbox_to_anchor=(1, 1.02), loc='upper left');"
   ]
  }
 ],
 "metadata": {
  "kernelspec": {
   "display_name": "Python 3",
   "language": "python",
   "name": "python3"
  },
  "language_info": {
   "codemirror_mode": {
    "name": "ipython",
    "version": 3
   },
   "file_extension": ".py",
   "mimetype": "text/x-python",
   "name": "python",
   "nbconvert_exporter": "python",
   "pygments_lexer": "ipython3",
   "version": "3.10.10"
  },
  "papermill": {
   "default_parameters": {},
   "duration": 78.228267,
   "end_time": "2022-09-22T13:16:48.824915",
   "environment_variables": {},
   "exception": null,
   "input_path": "__notebook__.ipynb",
   "output_path": "__notebook__.ipynb",
   "parameters": {},
   "start_time": "2022-09-22T13:15:30.596648",
   "version": "2.3.4"
  }
 },
 "nbformat": 4,
 "nbformat_minor": 5
}
